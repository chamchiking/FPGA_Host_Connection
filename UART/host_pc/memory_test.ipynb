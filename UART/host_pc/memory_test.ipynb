{
 "cells": [
  {
   "cell_type": "code",
   "execution_count": 1,
   "id": "979a3be4",
   "metadata": {},
   "outputs": [],
   "source": [
    "from uart import *\n",
    "import time\n",
    "import numpy as np\n",
    "import glob\n",
    "import platform"
   ]
  },
  {
   "cell_type": "code",
   "execution_count": 2,
   "id": "64e06817",
   "metadata": {},
   "outputs": [],
   "source": [
    "def port_list():\n",
    "    os_name = platform.system()\n",
    "    if \"Windows\" in os_name:\n",
    "        print(\"Current OS: Windows\")\n",
    "        ports = ['COM%s' %(i+1) for i in range(256)]\n",
    "    elif \"Linux\"in os_name:\n",
    "        print(\"Current OS: Linux\")\n",
    "        ports = glob.glob('/dev/tty[A-Za-z]*')\n",
    "    elif \"Darwin\" in os_name:\n",
    "        print(\"Current OS: Mac\")\n",
    "        ports = glob.glob('/dev/tty.*')\n",
    "    result = []\n",
    "    for p in ports:\n",
    "        try:\n",
    "            s = serial.Serial(p)\n",
    "            s.close()\n",
    "            result.append(p)\n",
    "        except (OSError, serial.SerialException):\n",
    "            pass\n",
    "    print(result)\n",
    "    return result"
   ]
  },
  {
   "cell_type": "code",
   "execution_count": 3,
   "id": "fb28280c",
   "metadata": {},
   "outputs": [
    {
     "name": "stdout",
     "output_type": "stream",
     "text": [
      "Current OS: Windows\n",
      "['COM1', 'COM5']\n"
     ]
    }
   ],
   "source": [
    "plist = port_list()"
   ]
  },
  {
   "cell_type": "code",
   "execution_count": 4,
   "id": "e339f577",
   "metadata": {},
   "outputs": [
    {
     "name": "stdout",
     "output_type": "stream",
     "text": [
      "COM1 port cannot be connected.\n",
      "COM5 port connected!!\n"
     ]
    }
   ],
   "source": [
    "for pname in plist:\n",
    "    try:\n",
    "        SU = UART(str(pname))\n",
    "        print(\"%s port connected!!\" %(pname))\n",
    "        break\n",
    "    except serial.SerialException:\n",
    "        print(\"%s port cannot be connected.\" %(pname))"
   ]
  },
  {
   "cell_type": "code",
   "execution_count": 5,
   "id": "f674dac4",
   "metadata": {},
   "outputs": [],
   "source": [
    "SU.su_flush_buffer()"
   ]
  },
  {
   "cell_type": "code",
   "execution_count": 6,
   "id": "e429a305",
   "metadata": {},
   "outputs": [],
   "source": [
    "MODE_TEST_HELLO = 0x01\n",
    "MODE_TEST_ECHO = 0x02\n",
    "MODE_STORE_RAM = 0x03\n",
    "MODE_LOAD_RAM = 0x04\n",
    "MODE_STORE_TEST = 0x05\n",
    "MODE_LOAD_TEST = 0x06"
   ]
  },
  {
   "cell_type": "code",
   "execution_count": 7,
   "id": "70cc5e18",
   "metadata": {},
   "outputs": [
    {
     "name": "stdout",
     "output_type": "stream",
     "text": [
      "[   OK   ] Mode\n",
      "b'  Hello, World! '\n"
     ]
    }
   ],
   "source": [
    "result = SU.test_hello()\n",
    "print(result)"
   ]
  },
  {
   "cell_type": "code",
   "execution_count": 8,
   "id": "308642be",
   "metadata": {
    "scrolled": true
   },
   "outputs": [
    {
     "name": "stdout",
     "output_type": "stream",
     "text": [
      "[   OK   ] Mode\n",
      "result: b'this is echo    '\n"
     ]
    }
   ],
   "source": [
    "result = SU.test_echo('this is echo')\n",
    "print(\"result:\", result)"
   ]
  },
  {
   "cell_type": "code",
   "execution_count": 9,
   "id": "c50fa4d0",
   "metadata": {},
   "outputs": [
    {
     "name": "stdout",
     "output_type": "stream",
     "text": [
      "[   OK   ] Mode\n",
      "b' MEM DONE       '\n"
     ]
    }
   ],
   "source": [
    "result = SU.mem_test()\n",
    "print(result)"
   ]
  },
  {
   "cell_type": "code",
   "execution_count": 10,
   "id": "0909ce4b",
   "metadata": {},
   "outputs": [],
   "source": [
    "file_name = 'testfile.txt'\n",
    "base_addr= 0x00000000\n",
    "words_to_send = 2304"
   ]
  },
  {
   "cell_type": "code",
   "execution_count": 11,
   "id": "120c7ab4",
   "metadata": {
    "scrolled": true
   },
   "outputs": [
    {
     "name": "stdout",
     "output_type": "stream",
     "text": [
      "[   OK   ] Mode\n",
      "[  OK  ] Wait_CMD\n",
      "[  OK  ] Receive\n",
      "b' Store complete '\n",
      "-------------------------------------\n",
      "[   OK   ] Mode\n",
      "b'  Waiting_CMD   '\n",
      "[  OK  ] Wait_CMD\n",
      "[   OK   ] CMD_Receive\n",
      "-------------------------------------\n",
      "Correct!!\n"
     ]
    },
    {
     "data": {
      "text/plain": [
       "True"
      ]
     },
     "execution_count": 11,
     "metadata": {},
     "output_type": "execute_result"
    }
   ],
   "source": [
    "SU.store_file(file_name, base_addr, words_to_send)\n",
    "print(\"-------------------------------------\")\n",
    "data = SU.verify_file(base_addr, words_to_send)\n",
    "print(\"-------------------------------------\")\n",
    "SU.check_result(file_name, data, words_to_send)"
   ]
  },
  {
   "cell_type": "code",
   "execution_count": 13,
   "id": "1bb0539f",
   "metadata": {},
   "outputs": [
    {
     "name": "stdout",
     "output_type": "stream",
     "text": [
      "0\n",
      "0\n"
     ]
    }
   ],
   "source": [
    "print(SU.ser.out_waiting)\n",
    "print(SU.ser.in_waiting)"
   ]
  },
  {
   "cell_type": "markdown",
   "id": "54559d04",
   "metadata": {},
   "source": []
  }
 ],
 "metadata": {
  "kernelspec": {
   "display_name": "Python 3 (ipykernel)",
   "language": "python",
   "name": "python3"
  },
  "language_info": {
   "codemirror_mode": {
    "name": "ipython",
    "version": 3
   },
   "file_extension": ".py",
   "mimetype": "text/x-python",
   "name": "python",
   "nbconvert_exporter": "python",
   "pygments_lexer": "ipython3",
   "version": "3.9.12"
  }
 },
 "nbformat": 4,
 "nbformat_minor": 5
}
